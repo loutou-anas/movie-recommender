{
 "cells": [
  {
   "cell_type": "markdown",
   "id": "f5ac9e2a",
   "metadata": {},
   "source": [
    "📌 Cell 1: Imports and Load Data"
   ]
  },
  {
   "cell_type": "code",
   "execution_count": 1,
   "id": "0f8cda80",
   "metadata": {},
   "outputs": [
    {
     "data": {
      "application/vnd.microsoft.datawrangler.viewer.v0+json": {
       "columns": [
        {
         "name": "index",
         "rawType": "int64",
         "type": "integer"
        },
        {
         "name": "user_id",
         "rawType": "int64",
         "type": "integer"
        },
        {
         "name": "movie_id",
         "rawType": "int64",
         "type": "integer"
        },
        {
         "name": "rating",
         "rawType": "int64",
         "type": "integer"
        },
        {
         "name": "timestamp",
         "rawType": "int64",
         "type": "integer"
        },
        {
         "name": "title",
         "rawType": "object",
         "type": "string"
        },
        {
         "name": "release_date",
         "rawType": "object",
         "type": "string"
        },
        {
         "name": "video_release_date",
         "rawType": "float64",
         "type": "float"
        },
        {
         "name": "IMDb_URL",
         "rawType": "object",
         "type": "string"
        },
        {
         "name": "unknown",
         "rawType": "int64",
         "type": "integer"
        },
        {
         "name": "Action",
         "rawType": "int64",
         "type": "integer"
        },
        {
         "name": "Adventure",
         "rawType": "int64",
         "type": "integer"
        },
        {
         "name": "Animation",
         "rawType": "int64",
         "type": "integer"
        },
        {
         "name": "Children",
         "rawType": "int64",
         "type": "integer"
        },
        {
         "name": "Comedy",
         "rawType": "int64",
         "type": "integer"
        },
        {
         "name": "Crime",
         "rawType": "int64",
         "type": "integer"
        },
        {
         "name": "Documentary",
         "rawType": "int64",
         "type": "integer"
        },
        {
         "name": "Drama",
         "rawType": "int64",
         "type": "integer"
        },
        {
         "name": "Fantasy",
         "rawType": "int64",
         "type": "integer"
        },
        {
         "name": "Film-Noir",
         "rawType": "int64",
         "type": "integer"
        },
        {
         "name": "Horror",
         "rawType": "int64",
         "type": "integer"
        },
        {
         "name": "Musical",
         "rawType": "int64",
         "type": "integer"
        },
        {
         "name": "Mystery",
         "rawType": "int64",
         "type": "integer"
        },
        {
         "name": "Romance",
         "rawType": "int64",
         "type": "integer"
        },
        {
         "name": "Sci-Fi",
         "rawType": "int64",
         "type": "integer"
        },
        {
         "name": "Thriller",
         "rawType": "int64",
         "type": "integer"
        },
        {
         "name": "War",
         "rawType": "int64",
         "type": "integer"
        },
        {
         "name": "Western",
         "rawType": "int64",
         "type": "integer"
        }
       ],
       "ref": "53bda6f8-552f-43ee-9929-8af481ac2202",
       "rows": [
        [
         "0",
         "196",
         "242",
         "3",
         "881250949",
         "Kolya (1996)",
         "24-Jan-1997",
         null,
         "http://us.imdb.com/M/title-exact?Kolya%20(1996)",
         "0",
         "0",
         "0",
         "0",
         "0",
         "1",
         "0",
         "0",
         "0",
         "0",
         "0",
         "0",
         "0",
         "0",
         "0",
         "0",
         "0",
         "0",
         "0"
        ],
        [
         "1",
         "186",
         "302",
         "3",
         "891717742",
         "L.A. Confidential (1997)",
         "01-Jan-1997",
         null,
         "http://us.imdb.com/M/title-exact?L%2EA%2E+Confidential+(1997)",
         "0",
         "0",
         "0",
         "0",
         "0",
         "0",
         "1",
         "0",
         "0",
         "0",
         "1",
         "0",
         "0",
         "1",
         "0",
         "0",
         "1",
         "0",
         "0"
        ],
        [
         "2",
         "22",
         "377",
         "1",
         "878887116",
         "Heavyweights (1994)",
         "01-Jan-1994",
         null,
         "http://us.imdb.com/M/title-exact?Heavyweights%20(1994)",
         "0",
         "0",
         "0",
         "0",
         "1",
         "1",
         "0",
         "0",
         "0",
         "0",
         "0",
         "0",
         "0",
         "0",
         "0",
         "0",
         "0",
         "0",
         "0"
        ],
        [
         "3",
         "244",
         "51",
         "2",
         "880606923",
         "Legends of the Fall (1994)",
         "01-Jan-1994",
         null,
         "http://us.imdb.com/M/title-exact?Legends%20of%20the%20Fall%20(1994)",
         "0",
         "0",
         "0",
         "0",
         "0",
         "0",
         "0",
         "0",
         "1",
         "0",
         "0",
         "0",
         "0",
         "0",
         "1",
         "0",
         "0",
         "1",
         "1"
        ],
        [
         "4",
         "166",
         "346",
         "1",
         "886397596",
         "Jackie Brown (1997)",
         "01-Jan-1997",
         null,
         "http://us.imdb.com/M/title-exact?imdb-title-119396",
         "0",
         "0",
         "0",
         "0",
         "0",
         "0",
         "1",
         "0",
         "1",
         "0",
         "0",
         "0",
         "0",
         "0",
         "0",
         "0",
         "0",
         "0",
         "0"
        ]
       ],
       "shape": {
        "columns": 27,
        "rows": 5
       }
      },
      "text/html": [
       "<div>\n",
       "<style scoped>\n",
       "    .dataframe tbody tr th:only-of-type {\n",
       "        vertical-align: middle;\n",
       "    }\n",
       "\n",
       "    .dataframe tbody tr th {\n",
       "        vertical-align: top;\n",
       "    }\n",
       "\n",
       "    .dataframe thead th {\n",
       "        text-align: right;\n",
       "    }\n",
       "</style>\n",
       "<table border=\"1\" class=\"dataframe\">\n",
       "  <thead>\n",
       "    <tr style=\"text-align: right;\">\n",
       "      <th></th>\n",
       "      <th>user_id</th>\n",
       "      <th>movie_id</th>\n",
       "      <th>rating</th>\n",
       "      <th>timestamp</th>\n",
       "      <th>title</th>\n",
       "      <th>release_date</th>\n",
       "      <th>video_release_date</th>\n",
       "      <th>IMDb_URL</th>\n",
       "      <th>unknown</th>\n",
       "      <th>Action</th>\n",
       "      <th>...</th>\n",
       "      <th>Fantasy</th>\n",
       "      <th>Film-Noir</th>\n",
       "      <th>Horror</th>\n",
       "      <th>Musical</th>\n",
       "      <th>Mystery</th>\n",
       "      <th>Romance</th>\n",
       "      <th>Sci-Fi</th>\n",
       "      <th>Thriller</th>\n",
       "      <th>War</th>\n",
       "      <th>Western</th>\n",
       "    </tr>\n",
       "  </thead>\n",
       "  <tbody>\n",
       "    <tr>\n",
       "      <th>0</th>\n",
       "      <td>196</td>\n",
       "      <td>242</td>\n",
       "      <td>3</td>\n",
       "      <td>881250949</td>\n",
       "      <td>Kolya (1996)</td>\n",
       "      <td>24-Jan-1997</td>\n",
       "      <td>NaN</td>\n",
       "      <td>http://us.imdb.com/M/title-exact?Kolya%20(1996)</td>\n",
       "      <td>0</td>\n",
       "      <td>0</td>\n",
       "      <td>...</td>\n",
       "      <td>0</td>\n",
       "      <td>0</td>\n",
       "      <td>0</td>\n",
       "      <td>0</td>\n",
       "      <td>0</td>\n",
       "      <td>0</td>\n",
       "      <td>0</td>\n",
       "      <td>0</td>\n",
       "      <td>0</td>\n",
       "      <td>0</td>\n",
       "    </tr>\n",
       "    <tr>\n",
       "      <th>1</th>\n",
       "      <td>186</td>\n",
       "      <td>302</td>\n",
       "      <td>3</td>\n",
       "      <td>891717742</td>\n",
       "      <td>L.A. Confidential (1997)</td>\n",
       "      <td>01-Jan-1997</td>\n",
       "      <td>NaN</td>\n",
       "      <td>http://us.imdb.com/M/title-exact?L%2EA%2E+Conf...</td>\n",
       "      <td>0</td>\n",
       "      <td>0</td>\n",
       "      <td>...</td>\n",
       "      <td>0</td>\n",
       "      <td>1</td>\n",
       "      <td>0</td>\n",
       "      <td>0</td>\n",
       "      <td>1</td>\n",
       "      <td>0</td>\n",
       "      <td>0</td>\n",
       "      <td>1</td>\n",
       "      <td>0</td>\n",
       "      <td>0</td>\n",
       "    </tr>\n",
       "    <tr>\n",
       "      <th>2</th>\n",
       "      <td>22</td>\n",
       "      <td>377</td>\n",
       "      <td>1</td>\n",
       "      <td>878887116</td>\n",
       "      <td>Heavyweights (1994)</td>\n",
       "      <td>01-Jan-1994</td>\n",
       "      <td>NaN</td>\n",
       "      <td>http://us.imdb.com/M/title-exact?Heavyweights%...</td>\n",
       "      <td>0</td>\n",
       "      <td>0</td>\n",
       "      <td>...</td>\n",
       "      <td>0</td>\n",
       "      <td>0</td>\n",
       "      <td>0</td>\n",
       "      <td>0</td>\n",
       "      <td>0</td>\n",
       "      <td>0</td>\n",
       "      <td>0</td>\n",
       "      <td>0</td>\n",
       "      <td>0</td>\n",
       "      <td>0</td>\n",
       "    </tr>\n",
       "    <tr>\n",
       "      <th>3</th>\n",
       "      <td>244</td>\n",
       "      <td>51</td>\n",
       "      <td>2</td>\n",
       "      <td>880606923</td>\n",
       "      <td>Legends of the Fall (1994)</td>\n",
       "      <td>01-Jan-1994</td>\n",
       "      <td>NaN</td>\n",
       "      <td>http://us.imdb.com/M/title-exact?Legends%20of%...</td>\n",
       "      <td>0</td>\n",
       "      <td>0</td>\n",
       "      <td>...</td>\n",
       "      <td>0</td>\n",
       "      <td>0</td>\n",
       "      <td>0</td>\n",
       "      <td>0</td>\n",
       "      <td>0</td>\n",
       "      <td>1</td>\n",
       "      <td>0</td>\n",
       "      <td>0</td>\n",
       "      <td>1</td>\n",
       "      <td>1</td>\n",
       "    </tr>\n",
       "    <tr>\n",
       "      <th>4</th>\n",
       "      <td>166</td>\n",
       "      <td>346</td>\n",
       "      <td>1</td>\n",
       "      <td>886397596</td>\n",
       "      <td>Jackie Brown (1997)</td>\n",
       "      <td>01-Jan-1997</td>\n",
       "      <td>NaN</td>\n",
       "      <td>http://us.imdb.com/M/title-exact?imdb-title-11...</td>\n",
       "      <td>0</td>\n",
       "      <td>0</td>\n",
       "      <td>...</td>\n",
       "      <td>0</td>\n",
       "      <td>0</td>\n",
       "      <td>0</td>\n",
       "      <td>0</td>\n",
       "      <td>0</td>\n",
       "      <td>0</td>\n",
       "      <td>0</td>\n",
       "      <td>0</td>\n",
       "      <td>0</td>\n",
       "      <td>0</td>\n",
       "    </tr>\n",
       "  </tbody>\n",
       "</table>\n",
       "<p>5 rows × 27 columns</p>\n",
       "</div>"
      ],
      "text/plain": [
       "   user_id  movie_id  rating  timestamp                       title  \\\n",
       "0      196       242       3  881250949                Kolya (1996)   \n",
       "1      186       302       3  891717742    L.A. Confidential (1997)   \n",
       "2       22       377       1  878887116         Heavyweights (1994)   \n",
       "3      244        51       2  880606923  Legends of the Fall (1994)   \n",
       "4      166       346       1  886397596         Jackie Brown (1997)   \n",
       "\n",
       "  release_date  video_release_date  \\\n",
       "0  24-Jan-1997                 NaN   \n",
       "1  01-Jan-1997                 NaN   \n",
       "2  01-Jan-1994                 NaN   \n",
       "3  01-Jan-1994                 NaN   \n",
       "4  01-Jan-1997                 NaN   \n",
       "\n",
       "                                            IMDb_URL  unknown  Action  ...  \\\n",
       "0    http://us.imdb.com/M/title-exact?Kolya%20(1996)        0       0  ...   \n",
       "1  http://us.imdb.com/M/title-exact?L%2EA%2E+Conf...        0       0  ...   \n",
       "2  http://us.imdb.com/M/title-exact?Heavyweights%...        0       0  ...   \n",
       "3  http://us.imdb.com/M/title-exact?Legends%20of%...        0       0  ...   \n",
       "4  http://us.imdb.com/M/title-exact?imdb-title-11...        0       0  ...   \n",
       "\n",
       "   Fantasy  Film-Noir  Horror  Musical  Mystery  Romance  Sci-Fi  Thriller  \\\n",
       "0        0          0       0        0        0        0       0         0   \n",
       "1        0          1       0        0        1        0       0         1   \n",
       "2        0          0       0        0        0        0       0         0   \n",
       "3        0          0       0        0        0        1       0         0   \n",
       "4        0          0       0        0        0        0       0         0   \n",
       "\n",
       "   War  Western  \n",
       "0    0        0  \n",
       "1    0        0  \n",
       "2    0        0  \n",
       "3    1        1  \n",
       "4    0        0  \n",
       "\n",
       "[5 rows x 27 columns]"
      ]
     },
     "execution_count": 1,
     "metadata": {},
     "output_type": "execute_result"
    }
   ],
   "source": [
    "import pandas as pd\n",
    "import os\n",
    "import joblib\n",
    "from sklearn.feature_extraction.text import TfidfVectorizer\n",
    "from sklearn.metrics.pairwise import linear_kernel\n",
    "from surprise import Dataset, Reader, SVD\n",
    "from surprise.model_selection import train_test_split\n",
    "from surprise import accuracy\n",
    "\n",
    "# Load processed dataset\n",
    "df = pd.read_csv('../data/processed/movies.csv')\n",
    "df.head()"
   ]
  },
  {
   "cell_type": "markdown",
   "id": "91a84aae",
   "metadata": {},
   "source": [
    "🧠 Cell 2: Define Genre Columns & Create combined_genres"
   ]
  },
  {
   "cell_type": "code",
   "execution_count": 2,
   "id": "8a82e9a4",
   "metadata": {},
   "outputs": [
    {
     "data": {
      "application/vnd.microsoft.datawrangler.viewer.v0+json": {
       "columns": [
        {
         "name": "index",
         "rawType": "int64",
         "type": "integer"
        },
        {
         "name": "title",
         "rawType": "object",
         "type": "string"
        },
        {
         "name": "combined_genres",
         "rawType": "object",
         "type": "string"
        }
       ],
       "ref": "772056ad-ca55-46c0-8faa-00c45c5edcb8",
       "rows": [
        [
         "0",
         "Kolya (1996)",
         "Comedy"
        ],
        [
         "1",
         "L.A. Confidential (1997)",
         "Crime Film-Noir Mystery Thriller"
        ],
        [
         "2",
         "Heavyweights (1994)",
         "Children Comedy"
        ],
        [
         "3",
         "Legends of the Fall (1994)",
         "Drama Romance War Western"
        ],
        [
         "4",
         "Jackie Brown (1997)",
         "Crime Drama"
        ]
       ],
       "shape": {
        "columns": 2,
        "rows": 5
       }
      },
      "text/html": [
       "<div>\n",
       "<style scoped>\n",
       "    .dataframe tbody tr th:only-of-type {\n",
       "        vertical-align: middle;\n",
       "    }\n",
       "\n",
       "    .dataframe tbody tr th {\n",
       "        vertical-align: top;\n",
       "    }\n",
       "\n",
       "    .dataframe thead th {\n",
       "        text-align: right;\n",
       "    }\n",
       "</style>\n",
       "<table border=\"1\" class=\"dataframe\">\n",
       "  <thead>\n",
       "    <tr style=\"text-align: right;\">\n",
       "      <th></th>\n",
       "      <th>title</th>\n",
       "      <th>combined_genres</th>\n",
       "    </tr>\n",
       "  </thead>\n",
       "  <tbody>\n",
       "    <tr>\n",
       "      <th>0</th>\n",
       "      <td>Kolya (1996)</td>\n",
       "      <td>Comedy</td>\n",
       "    </tr>\n",
       "    <tr>\n",
       "      <th>1</th>\n",
       "      <td>L.A. Confidential (1997)</td>\n",
       "      <td>Crime Film-Noir Mystery Thriller</td>\n",
       "    </tr>\n",
       "    <tr>\n",
       "      <th>2</th>\n",
       "      <td>Heavyweights (1994)</td>\n",
       "      <td>Children Comedy</td>\n",
       "    </tr>\n",
       "    <tr>\n",
       "      <th>3</th>\n",
       "      <td>Legends of the Fall (1994)</td>\n",
       "      <td>Drama Romance War Western</td>\n",
       "    </tr>\n",
       "    <tr>\n",
       "      <th>4</th>\n",
       "      <td>Jackie Brown (1997)</td>\n",
       "      <td>Crime Drama</td>\n",
       "    </tr>\n",
       "  </tbody>\n",
       "</table>\n",
       "</div>"
      ],
      "text/plain": [
       "                        title                   combined_genres\n",
       "0                Kolya (1996)                            Comedy\n",
       "1    L.A. Confidential (1997)  Crime Film-Noir Mystery Thriller\n",
       "2         Heavyweights (1994)                   Children Comedy\n",
       "3  Legends of the Fall (1994)         Drama Romance War Western\n",
       "4         Jackie Brown (1997)                       Crime Drama"
      ]
     },
     "execution_count": 2,
     "metadata": {},
     "output_type": "execute_result"
    }
   ],
   "source": [
    "genre_cols = ['Action', 'Adventure', 'Animation', 'Children', 'Comedy', 'Crime',\n",
    "              'Documentary', 'Drama', 'Fantasy', 'Film-Noir', 'Horror', 'Musical',\n",
    "              'Mystery', 'Romance', 'Sci-Fi', 'Thriller', 'War', 'Western']\n",
    "\n",
    "df['combined_genres'] = df[genre_cols].apply(\n",
    "    lambda row: ' '.join([genre for genre in genre_cols if row[genre] == 1]), axis=1\n",
    ")\n",
    "\n",
    "df[['title', 'combined_genres']].head()\n"
   ]
  },
  {
   "cell_type": "markdown",
   "id": "ab47f7cc",
   "metadata": {},
   "source": [
    "📊 Cell 3: Content-Based Filtering (TF-IDF + Cosine Similarity)"
   ]
  },
  {
   "cell_type": "code",
   "execution_count": 3,
   "id": "97ce02bc",
   "metadata": {},
   "outputs": [
    {
     "name": "stdout",
     "output_type": "stream",
     "text": [
      "[✅] Saved TF-IDF vectorizer and KNN model\n"
     ]
    }
   ],
   "source": [
    "from sklearn.feature_extraction.text import TfidfVectorizer\n",
    "from sklearn.neighbors import NearestNeighbors\n",
    "import joblib\n",
    "import os\n",
    "\n",
    "# 1. Build TF-IDF Matrix (limit features to reduce RAM)\n",
    "tfidf = TfidfVectorizer(max_features=1000, stop_words='english')\n",
    "tfidf_matrix = tfidf.fit_transform(df['combined_genres'])\n",
    "\n",
    "# 2. Fit KNN model (no full pairwise matrix in memory)\n",
    "knn = NearestNeighbors(n_neighbors=30, metric='cosine', algorithm='brute')\n",
    "knn.fit(tfidf_matrix)\n",
    "\n",
    "# 3. Save models\n",
    "os.makedirs('../models', exist_ok=True)\n",
    "joblib.dump(tfidf, '../models/tfidf_vectorizer.pkl')\n",
    "joblib.dump(knn, '../models/knn_model.pkl')\n",
    "\n",
    "print(\"[✅] Saved TF-IDF vectorizer and KNN model\")\n"
   ]
  },
  {
   "cell_type": "markdown",
   "id": "2cf28d1b",
   "metadata": {},
   "source": [
    "📚 Cell 4: Example Content-Based Recommendations"
   ]
  },
  {
   "cell_type": "code",
   "execution_count": 6,
   "id": "107f4b77",
   "metadata": {},
   "outputs": [
    {
     "data": {
      "application/vnd.microsoft.datawrangler.viewer.v0+json": {
       "columns": [
        {
         "name": "index",
         "rawType": "int64",
         "type": "integer"
        },
        {
         "name": "title",
         "rawType": "object",
         "type": "string"
        },
        {
         "name": "combined_genres",
         "rawType": "object",
         "type": "string"
        }
       ],
       "ref": "074c9900-19e6-4c9e-b431-ddcce7dfb650",
       "rows": [
        [
         "0",
         "Star Wars (1977)",
         "Action Adventure Romance Sci-Fi War"
        ],
        [
         "1",
         "Return of the Jedi (1983)",
         "Action Adventure Romance Sci-Fi War"
        ],
        [
         "2",
         "Star Wars (1977)",
         "Action Adventure Romance Sci-Fi War"
        ],
        [
         "3",
         "Return of the Jedi (1983)",
         "Action Adventure Romance Sci-Fi War"
        ],
        [
         "4",
         "Star Wars (1977)",
         "Action Adventure Romance Sci-Fi War"
        ],
        [
         "5",
         "Star Wars (1977)",
         "Action Adventure Romance Sci-Fi War"
        ],
        [
         "6",
         "Return of the Jedi (1983)",
         "Action Adventure Romance Sci-Fi War"
        ],
        [
         "7",
         "Star Wars (1977)",
         "Action Adventure Romance Sci-Fi War"
        ],
        [
         "8",
         "Star Wars (1977)",
         "Action Adventure Romance Sci-Fi War"
        ],
        [
         "9",
         "Star Wars (1977)",
         "Action Adventure Romance Sci-Fi War"
        ],
        [
         "10",
         "Star Wars (1977)",
         "Action Adventure Romance Sci-Fi War"
        ],
        [
         "11",
         "Star Wars (1977)",
         "Action Adventure Romance Sci-Fi War"
        ],
        [
         "12",
         "Return of the Jedi (1983)",
         "Action Adventure Romance Sci-Fi War"
        ],
        [
         "13",
         "Star Wars (1977)",
         "Action Adventure Romance Sci-Fi War"
        ],
        [
         "14",
         "Return of the Jedi (1983)",
         "Action Adventure Romance Sci-Fi War"
        ],
        [
         "15",
         "Star Wars (1977)",
         "Action Adventure Romance Sci-Fi War"
        ],
        [
         "16",
         "Star Wars (1977)",
         "Action Adventure Romance Sci-Fi War"
        ],
        [
         "17",
         "Return of the Jedi (1983)",
         "Action Adventure Romance Sci-Fi War"
        ],
        [
         "18",
         "Star Wars (1977)",
         "Action Adventure Romance Sci-Fi War"
        ],
        [
         "19",
         "Star Wars (1977)",
         "Action Adventure Romance Sci-Fi War"
        ],
        [
         "20",
         "Star Wars (1977)",
         "Action Adventure Romance Sci-Fi War"
        ],
        [
         "21",
         "Star Wars (1977)",
         "Action Adventure Romance Sci-Fi War"
        ],
        [
         "22",
         "Star Wars (1977)",
         "Action Adventure Romance Sci-Fi War"
        ],
        [
         "23",
         "Return of the Jedi (1983)",
         "Action Adventure Romance Sci-Fi War"
        ],
        [
         "24",
         "Star Wars (1977)",
         "Action Adventure Romance Sci-Fi War"
        ],
        [
         "25",
         "Return of the Jedi (1983)",
         "Action Adventure Romance Sci-Fi War"
        ],
        [
         "26",
         "Star Wars (1977)",
         "Action Adventure Romance Sci-Fi War"
        ],
        [
         "27",
         "Star Wars (1977)",
         "Action Adventure Romance Sci-Fi War"
        ],
        [
         "28",
         "Return of the Jedi (1983)",
         "Action Adventure Romance Sci-Fi War"
        ],
        [
         "29",
         "Star Wars (1977)",
         "Action Adventure Romance Sci-Fi War"
        ],
        [
         "30",
         "Star Wars (1977)",
         "Action Adventure Romance Sci-Fi War"
        ],
        [
         "31",
         "Star Wars (1977)",
         "Action Adventure Romance Sci-Fi War"
        ],
        [
         "32",
         "Star Wars (1977)",
         "Action Adventure Romance Sci-Fi War"
        ],
        [
         "33",
         "Star Wars (1977)",
         "Action Adventure Romance Sci-Fi War"
        ],
        [
         "34",
         "Return of the Jedi (1983)",
         "Action Adventure Romance Sci-Fi War"
        ],
        [
         "35",
         "Star Wars (1977)",
         "Action Adventure Romance Sci-Fi War"
        ],
        [
         "36",
         "Return of the Jedi (1983)",
         "Action Adventure Romance Sci-Fi War"
        ],
        [
         "37",
         "Star Wars (1977)",
         "Action Adventure Romance Sci-Fi War"
        ],
        [
         "38",
         "Star Wars (1977)",
         "Action Adventure Romance Sci-Fi War"
        ],
        [
         "39",
         "Return of the Jedi (1983)",
         "Action Adventure Romance Sci-Fi War"
        ],
        [
         "40",
         "Star Wars (1977)",
         "Action Adventure Romance Sci-Fi War"
        ],
        [
         "41",
         "Star Wars (1977)",
         "Action Adventure Romance Sci-Fi War"
        ],
        [
         "42",
         "Star Wars (1977)",
         "Action Adventure Romance Sci-Fi War"
        ],
        [
         "43",
         "Star Wars (1977)",
         "Action Adventure Romance Sci-Fi War"
        ],
        [
         "44",
         "Star Wars (1977)",
         "Action Adventure Romance Sci-Fi War"
        ],
        [
         "45",
         "Return of the Jedi (1983)",
         "Action Adventure Romance Sci-Fi War"
        ],
        [
         "46",
         "Star Wars (1977)",
         "Action Adventure Romance Sci-Fi War"
        ],
        [
         "47",
         "Return of the Jedi (1983)",
         "Action Adventure Romance Sci-Fi War"
        ],
        [
         "48",
         "Star Wars (1977)",
         "Action Adventure Romance Sci-Fi War"
        ],
        [
         "49",
         "Star Wars (1977)",
         "Action Adventure Romance Sci-Fi War"
        ]
       ],
       "shape": {
        "columns": 2,
        "rows": 6412
       }
      },
      "text/html": [
       "<div>\n",
       "<style scoped>\n",
       "    .dataframe tbody tr th:only-of-type {\n",
       "        vertical-align: middle;\n",
       "    }\n",
       "\n",
       "    .dataframe tbody tr th {\n",
       "        vertical-align: top;\n",
       "    }\n",
       "\n",
       "    .dataframe thead th {\n",
       "        text-align: right;\n",
       "    }\n",
       "</style>\n",
       "<table border=\"1\" class=\"dataframe\">\n",
       "  <thead>\n",
       "    <tr style=\"text-align: right;\">\n",
       "      <th></th>\n",
       "      <th>title</th>\n",
       "      <th>combined_genres</th>\n",
       "    </tr>\n",
       "  </thead>\n",
       "  <tbody>\n",
       "    <tr>\n",
       "      <th>0</th>\n",
       "      <td>Star Wars (1977)</td>\n",
       "      <td>Action Adventure Romance Sci-Fi War</td>\n",
       "    </tr>\n",
       "    <tr>\n",
       "      <th>1</th>\n",
       "      <td>Return of the Jedi (1983)</td>\n",
       "      <td>Action Adventure Romance Sci-Fi War</td>\n",
       "    </tr>\n",
       "    <tr>\n",
       "      <th>2</th>\n",
       "      <td>Star Wars (1977)</td>\n",
       "      <td>Action Adventure Romance Sci-Fi War</td>\n",
       "    </tr>\n",
       "    <tr>\n",
       "      <th>3</th>\n",
       "      <td>Return of the Jedi (1983)</td>\n",
       "      <td>Action Adventure Romance Sci-Fi War</td>\n",
       "    </tr>\n",
       "    <tr>\n",
       "      <th>4</th>\n",
       "      <td>Star Wars (1977)</td>\n",
       "      <td>Action Adventure Romance Sci-Fi War</td>\n",
       "    </tr>\n",
       "    <tr>\n",
       "      <th>...</th>\n",
       "      <td>...</td>\n",
       "      <td>...</td>\n",
       "    </tr>\n",
       "    <tr>\n",
       "      <th>6407</th>\n",
       "      <td>Star Wars (1977)</td>\n",
       "      <td>Action Adventure Romance Sci-Fi War</td>\n",
       "    </tr>\n",
       "    <tr>\n",
       "      <th>6408</th>\n",
       "      <td>Return of the Jedi (1983)</td>\n",
       "      <td>Action Adventure Romance Sci-Fi War</td>\n",
       "    </tr>\n",
       "    <tr>\n",
       "      <th>6409</th>\n",
       "      <td>Star Wars (1977)</td>\n",
       "      <td>Action Adventure Romance Sci-Fi War</td>\n",
       "    </tr>\n",
       "    <tr>\n",
       "      <th>6410</th>\n",
       "      <td>Star Wars (1977)</td>\n",
       "      <td>Action Adventure Romance Sci-Fi War</td>\n",
       "    </tr>\n",
       "    <tr>\n",
       "      <th>6411</th>\n",
       "      <td>Star Wars (1977)</td>\n",
       "      <td>Action Adventure Romance Sci-Fi War</td>\n",
       "    </tr>\n",
       "  </tbody>\n",
       "</table>\n",
       "<p>6412 rows × 2 columns</p>\n",
       "</div>"
      ],
      "text/plain": [
       "                          title                      combined_genres\n",
       "0              Star Wars (1977)  Action Adventure Romance Sci-Fi War\n",
       "1     Return of the Jedi (1983)  Action Adventure Romance Sci-Fi War\n",
       "2              Star Wars (1977)  Action Adventure Romance Sci-Fi War\n",
       "3     Return of the Jedi (1983)  Action Adventure Romance Sci-Fi War\n",
       "4              Star Wars (1977)  Action Adventure Romance Sci-Fi War\n",
       "...                         ...                                  ...\n",
       "6407           Star Wars (1977)  Action Adventure Romance Sci-Fi War\n",
       "6408  Return of the Jedi (1983)  Action Adventure Romance Sci-Fi War\n",
       "6409           Star Wars (1977)  Action Adventure Romance Sci-Fi War\n",
       "6410           Star Wars (1977)  Action Adventure Romance Sci-Fi War\n",
       "6411           Star Wars (1977)  Action Adventure Romance Sci-Fi War\n",
       "\n",
       "[6412 rows x 2 columns]"
      ]
     },
     "execution_count": 6,
     "metadata": {},
     "output_type": "execute_result"
    }
   ],
   "source": [
    "import joblib\n",
    "from sklearn.feature_extraction.text import TfidfVectorizer\n",
    "from sklearn.neighbors import NearestNeighbors\n",
    "\n",
    "# Load saved models\n",
    "tfidf = joblib.load('../models/tfidf_vectorizer.pkl')\n",
    "knn = joblib.load('../models/knn_model.pkl')\n",
    "\n",
    "# Regenerate the TF-IDF matrix (since .kneighbors needs it)\n",
    "tfidf_matrix = tfidf.fit_transform(df['combined_genres'])\n",
    "\n",
    "# Create title index mapping\n",
    "indices = pd.Series(df.index, index=df['title']).drop_duplicates()\n",
    "\n",
    "def get_content_recommendations(title, top_n=10):\n",
    "    if title not in indices:\n",
    "        return []\n",
    "    idx = indices[title]\n",
    "    distances, indices_list = knn.kneighbors(tfidf_matrix[idx], n_neighbors=top_n + 1)\n",
    "    movie_indices = indices_list.flatten()[1:]  # exclude self\n",
    "    return df[['title', 'combined_genres']].iloc[movie_indices].reset_index(drop=True)\n",
    "\n",
    "# ✅ Example call\n",
    "get_content_recommendations(\"Star Wars (1977)\")\n"
   ]
  },
  {
   "cell_type": "markdown",
   "id": "91daf7b2",
   "metadata": {},
   "source": [
    "🤝 Cell 5: Collaborative Filtering (Surprise SVD)"
   ]
  },
  {
   "cell_type": "code",
   "execution_count": 7,
   "id": "3f6338ae",
   "metadata": {},
   "outputs": [
    {
     "name": "stdout",
     "output_type": "stream",
     "text": [
      "RMSE: 0.9380\n",
      "[✅] Saved svd_model.pkl | RMSE: 0.9380\n"
     ]
    }
   ],
   "source": [
    "reader = Reader(rating_scale=(1, 5))\n",
    "ratings_data = df[['user_id', 'movie_id', 'rating']]\n",
    "data = Dataset.load_from_df(ratings_data, reader)\n",
    "\n",
    "trainset, testset = train_test_split(data, test_size=0.2)\n",
    "\n",
    "svd_model = SVD()\n",
    "svd_model.fit(trainset)\n",
    "\n",
    "predictions = svd_model.test(testset)\n",
    "rmse = accuracy.rmse(predictions)\n",
    "\n",
    "joblib.dump(svd_model, '../models/svd_model.pkl')\n",
    "print(f\"[✅] Saved svd_model.pkl | RMSE: {rmse:.4f}\")\n"
   ]
  },
  {
   "cell_type": "markdown",
   "id": "b69004aa",
   "metadata": {},
   "source": [
    "👤 Cell 6: Example Collaborative Recommendations"
   ]
  },
  {
   "cell_type": "code",
   "execution_count": 8,
   "id": "a218c351",
   "metadata": {},
   "outputs": [
    {
     "data": {
      "application/vnd.microsoft.datawrangler.viewer.v0+json": {
       "columns": [
        {
         "name": "index",
         "rawType": "int64",
         "type": "integer"
        },
        {
         "name": "title",
         "rawType": "object",
         "type": "string"
        },
        {
         "name": "predicted_rating",
         "rawType": "float64",
         "type": "float"
        }
       ],
       "ref": "41eabd62-bcdc-446f-b9bb-e6bb6a278c48",
       "rows": [
        [
         "0",
         "Wallace & Gromit: The Best of Aardman Animation (1996)",
         "4.846028049916092"
        ],
        [
         "1",
         "Some Folks Call It a Sling Blade (1993)",
         "4.765415730580155"
        ],
        [
         "2",
         "Wrong Trousers, The (1993)",
         "4.734447386641337"
        ],
        [
         "3",
         "Schindler's List (1993)",
         "4.722577018356669"
        ],
        [
         "4",
         "Close Shave, A (1995)",
         "4.721714018017496"
        ],
        [
         "5",
         "High Noon (1952)",
         "4.700950167148431"
        ],
        [
         "6",
         "Shall We Dance? (1996)",
         "4.695286117950058"
        ],
        [
         "7",
         "Henry V (1989)",
         "4.669549232041753"
        ],
        [
         "8",
         "To Kill a Mockingbird (1962)",
         "4.658337074832558"
        ],
        [
         "9",
         "Good Will Hunting (1997)",
         "4.638155181162859"
        ]
       ],
       "shape": {
        "columns": 2,
        "rows": 10
       }
      },
      "text/html": [
       "<div>\n",
       "<style scoped>\n",
       "    .dataframe tbody tr th:only-of-type {\n",
       "        vertical-align: middle;\n",
       "    }\n",
       "\n",
       "    .dataframe tbody tr th {\n",
       "        vertical-align: top;\n",
       "    }\n",
       "\n",
       "    .dataframe thead th {\n",
       "        text-align: right;\n",
       "    }\n",
       "</style>\n",
       "<table border=\"1\" class=\"dataframe\">\n",
       "  <thead>\n",
       "    <tr style=\"text-align: right;\">\n",
       "      <th></th>\n",
       "      <th>title</th>\n",
       "      <th>predicted_rating</th>\n",
       "    </tr>\n",
       "  </thead>\n",
       "  <tbody>\n",
       "    <tr>\n",
       "      <th>0</th>\n",
       "      <td>Wallace &amp; Gromit: The Best of Aardman Animatio...</td>\n",
       "      <td>4.846028</td>\n",
       "    </tr>\n",
       "    <tr>\n",
       "      <th>1</th>\n",
       "      <td>Some Folks Call It a Sling Blade (1993)</td>\n",
       "      <td>4.765416</td>\n",
       "    </tr>\n",
       "    <tr>\n",
       "      <th>2</th>\n",
       "      <td>Wrong Trousers, The (1993)</td>\n",
       "      <td>4.734447</td>\n",
       "    </tr>\n",
       "    <tr>\n",
       "      <th>3</th>\n",
       "      <td>Schindler's List (1993)</td>\n",
       "      <td>4.722577</td>\n",
       "    </tr>\n",
       "    <tr>\n",
       "      <th>4</th>\n",
       "      <td>Close Shave, A (1995)</td>\n",
       "      <td>4.721714</td>\n",
       "    </tr>\n",
       "    <tr>\n",
       "      <th>5</th>\n",
       "      <td>High Noon (1952)</td>\n",
       "      <td>4.700950</td>\n",
       "    </tr>\n",
       "    <tr>\n",
       "      <th>6</th>\n",
       "      <td>Shall We Dance? (1996)</td>\n",
       "      <td>4.695286</td>\n",
       "    </tr>\n",
       "    <tr>\n",
       "      <th>7</th>\n",
       "      <td>Henry V (1989)</td>\n",
       "      <td>4.669549</td>\n",
       "    </tr>\n",
       "    <tr>\n",
       "      <th>8</th>\n",
       "      <td>To Kill a Mockingbird (1962)</td>\n",
       "      <td>4.658337</td>\n",
       "    </tr>\n",
       "    <tr>\n",
       "      <th>9</th>\n",
       "      <td>Good Will Hunting (1997)</td>\n",
       "      <td>4.638155</td>\n",
       "    </tr>\n",
       "  </tbody>\n",
       "</table>\n",
       "</div>"
      ],
      "text/plain": [
       "                                               title  predicted_rating\n",
       "0  Wallace & Gromit: The Best of Aardman Animatio...          4.846028\n",
       "1            Some Folks Call It a Sling Blade (1993)          4.765416\n",
       "2                         Wrong Trousers, The (1993)          4.734447\n",
       "3                            Schindler's List (1993)          4.722577\n",
       "4                              Close Shave, A (1995)          4.721714\n",
       "5                                   High Noon (1952)          4.700950\n",
       "6                             Shall We Dance? (1996)          4.695286\n",
       "7                                     Henry V (1989)          4.669549\n",
       "8                       To Kill a Mockingbird (1962)          4.658337\n",
       "9                           Good Will Hunting (1997)          4.638155"
      ]
     },
     "execution_count": 8,
     "metadata": {},
     "output_type": "execute_result"
    }
   ],
   "source": [
    "movie_id_map = df[['movie_id', 'title']].drop_duplicates().set_index('movie_id')['title']\n",
    "\n",
    "def get_collab_recommendations(user_id, top_n=10):\n",
    "    seen = df[df['user_id'] == user_id]['movie_id'].tolist()\n",
    "    unseen = [mid for mid in df['movie_id'].unique() if mid not in seen]\n",
    "\n",
    "    preds = [svd_model.predict(user_id, mid) for mid in unseen]\n",
    "    top_preds = sorted(preds, key=lambda x: x.est, reverse=True)[:top_n]\n",
    "    movie_titles = movie_id_map.loc[[p.iid for p in top_preds]].values\n",
    "\n",
    "    return pd.DataFrame({'title': movie_titles, 'predicted_rating': [p.est for p in top_preds]})\n",
    "\n",
    "get_collab_recommendations(user_id=10)\n"
   ]
  }
 ],
 "metadata": {
  "kernelspec": {
   "display_name": "venv",
   "language": "python",
   "name": "python3"
  },
  "language_info": {
   "codemirror_mode": {
    "name": "ipython",
    "version": 3
   },
   "file_extension": ".py",
   "mimetype": "text/x-python",
   "name": "python",
   "nbconvert_exporter": "python",
   "pygments_lexer": "ipython3",
   "version": "3.11.9"
  }
 },
 "nbformat": 4,
 "nbformat_minor": 5
}
